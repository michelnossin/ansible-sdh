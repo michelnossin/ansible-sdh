{
 "cells": [
  {
   "cell_type": "markdown",
   "metadata": {},
   "source": [
    "### Ansible\n",
    "\n",
    "```\n",
    "Using Ansible base steps for the future data hub environment.\n",
    "\n",
    "Install on mac:\n",
    "brew update\n",
    "brew install ansible\n",
    "(or us pip to install ansible module using python alternatively)\n",
    "\n",
    "test:\n",
    "ansible --version\n",
    "\n",
    "Use git as version system:\n",
    "- use master as dev branch (to prevent accidental pushes to prod) \n",
    "- create prod branch (or test etc)\n",
    "- USe branches for long term changes (feature branch)\n",
    "- Always deploy right after pushing to production.\n",
    "- Use small changes, not 1 big change.\n",
    "\n",
    "```"
   ]
  },
  {
   "cell_type": "markdown",
   "metadata": {},
   "source": [
    "### Testing Ansible without cloud provider"
   ]
  },
  {
   "cell_type": "markdown",
   "metadata": {},
   "source": [
    "```\n",
    "Well to prevent local gluther just create a server in aws manual\n",
    "We create an ec nano server, with port 22 and 33434 (ping) open to the your public ip. Also we open port 80 for a webserver.\n",
    "Download the key text put this in a <server>.pem file ($HOME/.ssh/<server>.pem)\n",
    "Check out the public ip in the aws console: \n",
    "\n",
    "Go to the ec2 server\n",
    "cd /Users/michelnossin/.ssh\n",
    "chmod 400 *.pem\n",
    "ssh -i michel-ansible-test.pem ec2-user@<public ip>\n",
    "exit\n",
    "\n",
    "#Now add the key to ssh so we dont need to specify\n",
    "ssh-add michel-ansible-test.pem\n",
    "ssh ec2-user@<public ip>\n",
    "\n",
    "```\n",
    "\n"
   ]
  },
  {
   "cell_type": "markdown",
   "metadata": {},
   "source": [
    "```\n",
    "Some ansible tests:\n",
    "ansible --help\n",
    "<check out ansi configdir near inventory part!>\n",
    "ansible all -i 35.157.62.157, -m ping -u ec2-user\n",
    "ansible all -i 35.157.62.157, -m shell -a \"echo 'hallo'\" -u ec2-user\n",
    "\n",
    "-m is for modules, with optional -a as arguments\n",
    "\n",
    "```"
   ]
  },
  {
   "cell_type": "markdown",
   "metadata": {},
   "source": [
    "### Playbooks"
   ]
  },
  {
   "cell_type": "markdown",
   "metadata": {},
   "source": [
    "example, will put in current repository.\n",
    "execute with: \n",
    "ansible-playbook -i 35.157.62.157, http-server.yaml\n",
    "\n",
    "``` \n",
    "---\n",
    "- hosts: all\n",
    "  remote_user: ec2-user\n",
    "  become: True\n",
    "  tasks:\n",
    "  - name: Ensure the HTTPd package is installed\n",
    "    yum:\n",
    "      name: httpd\n",
    "      state: present\n",
    "  - name: Ensure the HTTPd service is enabled and running\n",
    "    service:\n",
    "      name: httpd\n",
    "      state: started\n",
    "      enabled: True\n",
    "\n",
    "```    \n",
    "        \n",
    " Running multiple times gives changed values instead of ok, this means idempotency. Monitor change values therefor.\n",
    " debug: run with -v , or multiple like -vvv to get extra info"
   ]
  },
  {
   "cell_type": "markdown",
   "metadata": {},
   "source": [
    "Let's add in same yml file set and get of variables, to be used while\n",
    "reusing yaml playbooks.\n",
    "```\n",
    "variables:\n",
    "\n",
    "tasks:\n",
    "- name: Set variable 'x' \n",
    "  set_fact:\n",
    "    x: 'michel'\n",
    "- name: Get variable 'x'\n",
    "  debug:\n",
    "    msg: '{{ x }}'\n",
    "``` \n",
    "\n",
    "Or pass -e 'x=michel' at the prompt, so set is not needed. Only issue, you lose that configuration, its not stored"
   ]
  },
  {
   "cell_type": "markdown",
   "metadata": {},
   "source": [
    "Optionally add this to make sure our webserver can pass firewall. We will not add this as our webserver allready works.\n",
    "```\n",
    "- name: Ensure HTTP can pass the firewall\n",
    "       firewalld:\n",
    "         service: http\n",
    "         state: enabled\n",
    "         permanent: True\n",
    "         immediate: True\n",
    "       become: True\n",
    "     - name: Ensure HTTPS can pass the firewall\n",
    "       firewalld:\n",
    "         service: https\n",
    "         state: enabled\n",
    "         permanent: True\n",
    "         immediate: True\n",
    "become: True\n",
    "```"
   ]
  },
  {
   "cell_type": "markdown",
   "metadata": {},
   "source": [
    "Lets publish our page:\n",
    "```\n",
    "- name: Ensure the website is present and updated\n",
    "       template:\n",
    "         src: index.html.j2\n",
    "         dest: /var/www/html/index.html\n",
    "         owner: root\n",
    "         group: root\n",
    "         mode: 0644\n",
    "\n",
    "We will put this in tje j2 file\n",
    "\n",
    "<html>\n",
    "       <body>\n",
    "           <h1>Hello Michel</h1>\n",
    "       </body>\n",
    "</html>\n",
    "\n",
    "```"
   ]
  },
  {
   "cell_type": "markdown",
   "metadata": {},
   "source": [
    "go to http://35.157.62.157 , it works"
   ]
  }
 ],
 "metadata": {
  "kernelspec": {
   "display_name": "Python 3",
   "language": "python",
   "name": "python3"
  },
  "language_info": {
   "codemirror_mode": {
    "name": "ipython",
    "version": 3
   },
   "file_extension": ".py",
   "mimetype": "text/x-python",
   "name": "python",
   "nbconvert_exporter": "python",
   "pygments_lexer": "ipython3",
   "version": "3.6.0"
  }
 },
 "nbformat": 4,
 "nbformat_minor": 2
}
